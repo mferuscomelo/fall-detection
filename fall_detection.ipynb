{
  "nbformat": 4,
  "nbformat_minor": 0,
  "metadata": {
    "colab": {
      "name": "fall-detection.ipynb",
      "provenance": [],
      "collapsed_sections": [],
      "authorship_tag": "ABX9TyPats8Xsj0VYlgkZZctXM74",
      "include_colab_link": true
    },
    "kernelspec": {
      "name": "python3",
      "display_name": "Python 3"
    },
    "language_info": {
      "name": "python"
    },
    "accelerator": "GPU"
  },
  "cells": [
    {
      "cell_type": "markdown",
      "metadata": {
        "id": "view-in-github",
        "colab_type": "text"
      },
      "source": [
        "<a href=\"https://colab.research.google.com/github/mferuscomelo/fall-detection/blob/main/fall_detection.ipynb\" target=\"_parent\"><img src=\"https://colab.research.google.com/assets/colab-badge.svg\" alt=\"Open In Colab\"/></a>"
      ]
    },
    {
      "cell_type": "markdown",
      "metadata": {
        "id": "HAsaO1vOzGZl"
      },
      "source": [
        "Adapted from https://arxiv.org/ftp/arxiv/papers/1911/1911.11976.pdf"
      ]
    },
    {
      "cell_type": "code",
      "metadata": {
        "id": "RMpT-6e-5wyJ",
        "colab": {
          "base_uri": "https://localhost:8080/"
        },
        "outputId": "92f687fd-b686-4b28-e1d8-dbf2180abb47"
      },
      "source": [
        "!git clone https://github.com/mferuscomelo/fall-detection.git"
      ],
      "execution_count": 38,
      "outputs": [
        {
          "output_type": "stream",
          "text": [
            "fatal: destination path 'fall-detection' already exists and is not an empty directory.\n"
          ],
          "name": "stdout"
        }
      ]
    },
    {
      "cell_type": "code",
      "metadata": {
        "id": "gRASTHS-mS8c"
      },
      "source": [
        "import os\n",
        "import pandas as pd\n",
        "import numpy as np\n",
        "import seaborn as sns\n",
        "from matplotlib import rcParams\n",
        "import matplotlib.pyplot as plt\n",
        "import tensorflow as tf\n",
        "from tensorflow import keras\n",
        "from scipy import signal\n",
        "from scipy.stats import kurtosis, skew\n",
        "from sklearn.model_selection import train_test_split\n",
        "from sklearn.preprocessing import OneHotEncoder\n",
        "\n",
        "sns.set(style='whitegrid', palette='muted', font_scale=1.5)\n",
        "rcParams['figure.figsize'] = 22, 10\n",
        "\n",
        "RANDOM_SEED = 42\n",
        "COLUMN_NAMES = [\"acc1_x\", \"acc1_y\", \"acc1_z\", \"gyro_x\", \"gyro_y\", \"gyro_z\", \"acc2_x\", \"acc2_y\", \"acc2_z\"]"
      ],
      "execution_count": 39,
      "outputs": []
    },
    {
      "cell_type": "code",
      "metadata": {
        "id": "-CusZl5t4RKm"
      },
      "source": [
        "dataset_dir = \"/content/fall-detection/dataset\"\n",
        "\n",
        "adl_filepaths = []\n",
        "fall_filepaths = []\n",
        "\n",
        "for subdir, dirs, files in os.walk(dataset_dir):\n",
        "  for file in files:\n",
        "    # make sure that only csv files are included\n",
        "    if \"csv\" not in file:\n",
        "      continue\n",
        "\n",
        "    path = os.path.join(subdir, file)\n",
        "\n",
        "    if file[0] == \"D\":\n",
        "      adl_filepaths.append(path)\n",
        "    elif file[0] == \"F\":\n",
        "      fall_filepaths.append(path)"
      ],
      "execution_count": 40,
      "outputs": []
    },
    {
      "cell_type": "code",
      "metadata": {
        "id": "i3m-ZQwla9rA"
      },
      "source": [
        "def convert_data(data_bits, range: int, resolution: int):\n",
        "  # Equation = [(2*Range)/(2^Resolution)]*Data\n",
        "  data_converted = data_bits * ((2 * range) / (2 ** resolution))\n",
        "  return data_converted"
      ],
      "execution_count": 41,
      "outputs": []
    },
    {
      "cell_type": "code",
      "metadata": {
        "id": "24XV7Z2GpaKW"
      },
      "source": [
        "def filter_data(data):\n",
        "  b, a = signal.butter(4, 5, fs=200, btype='lowpass', analog=False)\n",
        "  return signal.filtfilt(b, a, data)"
      ],
      "execution_count": 42,
      "outputs": []
    },
    {
      "cell_type": "code",
      "metadata": {
        "id": "uWMzYcBDm1m2"
      },
      "source": [
        "def mean(data):\n",
        "  return np.mean(data)\n",
        "\n",
        "def std(data):\n",
        "  return np.std(data)\n",
        "\n",
        "def extract_features(df):\n",
        "  features = []\n",
        "  col_names = []\n",
        "\n",
        "  for sensor_name in [\"acc1_x\", \"acc1_y\", \"acc1_z\", \"gyro_x\", \"gyro_y\", \"gyro_z\", \"acc2_x\", \"acc2_y\", \"acc2_z\"]:\n",
        "    for variable_type in [\"max_amp\", \"min_amp\", \"mean_amp\", \"variance\", \"kurtosis\", \"skewness\"]:\n",
        "        col_names.append(f\"{sensor_name}_{variable_type}\")\n",
        "\n",
        "  row = []\n",
        "  for col in df:\n",
        "    col_data = df[col]\n",
        "\n",
        "    row.append(max(col_data)) # maximum amplitude\n",
        "    row.append(min(col_data)) # minimum amplitude\n",
        "    row.append(mean(col_data)) # mean amplitude\n",
        "    row.append(std(col_data)) # variance\n",
        "    row.append(kurtosis(col_data)) # kurtosis\n",
        "    row.append(skew(col_data)) # skewness\n",
        "\n",
        "  features.append(row)\n",
        "\n",
        "  features_df = pd.DataFrame(features, columns=col_names)\n",
        "\n",
        "  return features_df\n"
      ],
      "execution_count": 43,
      "outputs": []
    },
    {
      "cell_type": "code",
      "metadata": {
        "id": "KGcSCWe8iBsH"
      },
      "source": [
        "def calc_features_df(filepath: str, class_num=-1, is_raw=True):\n",
        "  df = pd.read_csv(filepath, names=COLUMN_NAMES, header=None)\n",
        "\n",
        "  for axis in [\"x\", \"y\", \"z\"]:\n",
        "    acc1_data = df[f\"acc1_{axis}\"]\n",
        "    acc2_data = df[f\"acc2_{axis}\"]\n",
        "    gyro_data = df[f\"gyro_{axis}\"]\n",
        "\n",
        "    # Convert data if data is raw\n",
        "    if is_raw:\n",
        "      acc1_data = convert_data(acc1_data, 16, 13)\n",
        "      acc2_data = convert_data(acc2_data, 8, 14)\n",
        "      gyro_data = convert_data(gyro_data, 2000, 16)\n",
        "\n",
        "    # Filter data using a Butterworth filter\n",
        "    df[f\"acc1_{axis}\"] = filter_data(acc1_data)\n",
        "    df[f\"acc2_{axis}\"] = filter_data(acc2_data)\n",
        "    df[f\"gyro_{axis}\"] = filter_data(gyro_data)\n",
        "\n",
        "  features_df = extract_features(df)\n",
        "\n",
        "  if class_num >= 0:\n",
        "    features_df[\"class\"] = np.full(len(features_df), class_num)\n",
        "\n",
        "  return features_df"
      ],
      "execution_count": 44,
      "outputs": []
    },
    {
      "cell_type": "code",
      "metadata": {
        "id": "SSv-eQGFazjL"
      },
      "source": [
        "adl_df_list = []\n",
        "fall_df_list = []\n",
        "\n",
        "for file in adl_filepaths:\n",
        "  features_df = calc_features_df(file, 0)\n",
        "  adl_df_list.append(features_df)\n",
        "\n",
        "for file in fall_filepaths:\n",
        "  features_df = calc_features_df(file, 1)\n",
        "  fall_df_list.append(features_df)\n",
        "\n",
        "adl_df = pd.concat(adl_df_list, sort=False, ignore_index=True)\n",
        "fall_df = pd.concat(fall_df_list, sort=False, ignore_index=True)"
      ],
      "execution_count": 45,
      "outputs": []
    },
    {
      "cell_type": "code",
      "metadata": {
        "colab": {
          "base_uri": "https://localhost:8080/",
          "height": 243
        },
        "id": "XuySiLmtrdQ0",
        "outputId": "86ab4d8b-57e6-4ad0-9bea-1c5e3e2d7462"
      },
      "source": [
        "print(len(adl_df), \"rows,\", len(adl_df.columns), \"cols\")\n",
        "adl_df.head()"
      ],
      "execution_count": 46,
      "outputs": [
        {
          "output_type": "stream",
          "text": [
            "2707 rows, 55 cols\n"
          ],
          "name": "stdout"
        },
        {
          "output_type": "execute_result",
          "data": {
            "text/html": [
              "<div>\n",
              "<style scoped>\n",
              "    .dataframe tbody tr th:only-of-type {\n",
              "        vertical-align: middle;\n",
              "    }\n",
              "\n",
              "    .dataframe tbody tr th {\n",
              "        vertical-align: top;\n",
              "    }\n",
              "\n",
              "    .dataframe thead th {\n",
              "        text-align: right;\n",
              "    }\n",
              "</style>\n",
              "<table border=\"1\" class=\"dataframe\">\n",
              "  <thead>\n",
              "    <tr style=\"text-align: right;\">\n",
              "      <th></th>\n",
              "      <th>acc1_x_max_amp</th>\n",
              "      <th>acc1_x_min_amp</th>\n",
              "      <th>acc1_x_mean_amp</th>\n",
              "      <th>acc1_x_variance</th>\n",
              "      <th>acc1_x_kurtosis</th>\n",
              "      <th>acc1_x_skewness</th>\n",
              "      <th>acc1_y_max_amp</th>\n",
              "      <th>acc1_y_min_amp</th>\n",
              "      <th>acc1_y_mean_amp</th>\n",
              "      <th>acc1_y_variance</th>\n",
              "      <th>acc1_y_kurtosis</th>\n",
              "      <th>acc1_y_skewness</th>\n",
              "      <th>acc1_z_max_amp</th>\n",
              "      <th>acc1_z_min_amp</th>\n",
              "      <th>acc1_z_mean_amp</th>\n",
              "      <th>acc1_z_variance</th>\n",
              "      <th>acc1_z_kurtosis</th>\n",
              "      <th>acc1_z_skewness</th>\n",
              "      <th>gyro_x_max_amp</th>\n",
              "      <th>gyro_x_min_amp</th>\n",
              "      <th>gyro_x_mean_amp</th>\n",
              "      <th>gyro_x_variance</th>\n",
              "      <th>gyro_x_kurtosis</th>\n",
              "      <th>gyro_x_skewness</th>\n",
              "      <th>gyro_y_max_amp</th>\n",
              "      <th>gyro_y_min_amp</th>\n",
              "      <th>gyro_y_mean_amp</th>\n",
              "      <th>gyro_y_variance</th>\n",
              "      <th>gyro_y_kurtosis</th>\n",
              "      <th>gyro_y_skewness</th>\n",
              "      <th>gyro_z_max_amp</th>\n",
              "      <th>gyro_z_min_amp</th>\n",
              "      <th>gyro_z_mean_amp</th>\n",
              "      <th>gyro_z_variance</th>\n",
              "      <th>gyro_z_kurtosis</th>\n",
              "      <th>gyro_z_skewness</th>\n",
              "      <th>acc2_x_max_amp</th>\n",
              "      <th>acc2_x_min_amp</th>\n",
              "      <th>acc2_x_mean_amp</th>\n",
              "      <th>acc2_x_variance</th>\n",
              "      <th>acc2_x_kurtosis</th>\n",
              "      <th>acc2_x_skewness</th>\n",
              "      <th>acc2_y_max_amp</th>\n",
              "      <th>acc2_y_min_amp</th>\n",
              "      <th>acc2_y_mean_amp</th>\n",
              "      <th>acc2_y_variance</th>\n",
              "      <th>acc2_y_kurtosis</th>\n",
              "      <th>acc2_y_skewness</th>\n",
              "      <th>acc2_z_max_amp</th>\n",
              "      <th>acc2_z_min_amp</th>\n",
              "      <th>acc2_z_mean_amp</th>\n",
              "      <th>acc2_z_variance</th>\n",
              "      <th>acc2_z_kurtosis</th>\n",
              "      <th>acc2_z_skewness</th>\n",
              "      <th>class</th>\n",
              "    </tr>\n",
              "  </thead>\n",
              "  <tbody>\n",
              "    <tr>\n",
              "      <th>0</th>\n",
              "      <td>0.412097</td>\n",
              "      <td>-0.303774</td>\n",
              "      <td>0.126126</td>\n",
              "      <td>0.144271</td>\n",
              "      <td>0.565948</td>\n",
              "      <td>-0.941661</td>\n",
              "      <td>-0.707385</td>\n",
              "      <td>-1.227144</td>\n",
              "      <td>-0.893830</td>\n",
              "      <td>0.125537</td>\n",
              "      <td>-1.507645</td>\n",
              "      <td>0.215210</td>\n",
              "      <td>0.530227</td>\n",
              "      <td>-0.450715</td>\n",
              "      <td>0.199353</td>\n",
              "      <td>0.258235</td>\n",
              "      <td>-1.095572</td>\n",
              "      <td>-0.171213</td>\n",
              "      <td>63.748601</td>\n",
              "      <td>-56.633065</td>\n",
              "      <td>-1.827388</td>\n",
              "      <td>13.599294</td>\n",
              "      <td>6.353371</td>\n",
              "      <td>0.762342</td>\n",
              "      <td>78.589460</td>\n",
              "      <td>-30.138097</td>\n",
              "      <td>6.235331</td>\n",
              "      <td>17.253348</td>\n",
              "      <td>3.873340</td>\n",
              "      <td>1.908662</td>\n",
              "      <td>38.685831</td>\n",
              "      <td>-44.929529</td>\n",
              "      <td>-0.598020</td>\n",
              "      <td>9.878188</td>\n",
              "      <td>5.447945</td>\n",
              "      <td>-0.390012</td>\n",
              "      <td>0.318612</td>\n",
              "      <td>-0.375474</td>\n",
              "      <td>0.044213</td>\n",
              "      <td>0.141603</td>\n",
              "      <td>0.503574</td>\n",
              "      <td>-0.927169</td>\n",
              "      <td>-0.676625</td>\n",
              "      <td>-1.174784</td>\n",
              "      <td>-0.855197</td>\n",
              "      <td>0.120659</td>\n",
              "      <td>-1.503280</td>\n",
              "      <td>0.217944</td>\n",
              "      <td>0.687337</td>\n",
              "      <td>-0.288297</td>\n",
              "      <td>0.355416</td>\n",
              "      <td>0.259948</td>\n",
              "      <td>-1.132065</td>\n",
              "      <td>-0.142152</td>\n",
              "      <td>0</td>\n",
              "    </tr>\n",
              "    <tr>\n",
              "      <th>1</th>\n",
              "      <td>0.491542</td>\n",
              "      <td>-0.415073</td>\n",
              "      <td>0.101778</td>\n",
              "      <td>0.136026</td>\n",
              "      <td>1.213895</td>\n",
              "      <td>-0.658707</td>\n",
              "      <td>-0.657881</td>\n",
              "      <td>-1.307803</td>\n",
              "      <td>-0.924635</td>\n",
              "      <td>0.132801</td>\n",
              "      <td>-0.982005</td>\n",
              "      <td>0.630014</td>\n",
              "      <td>0.538722</td>\n",
              "      <td>-0.423024</td>\n",
              "      <td>0.111373</td>\n",
              "      <td>0.269691</td>\n",
              "      <td>-1.162368</td>\n",
              "      <td>0.497064</td>\n",
              "      <td>89.360210</td>\n",
              "      <td>-64.497903</td>\n",
              "      <td>-1.779129</td>\n",
              "      <td>14.561697</td>\n",
              "      <td>12.380192</td>\n",
              "      <td>1.264304</td>\n",
              "      <td>112.594344</td>\n",
              "      <td>-69.883610</td>\n",
              "      <td>6.184255</td>\n",
              "      <td>22.067360</td>\n",
              "      <td>6.315800</td>\n",
              "      <td>1.518098</td>\n",
              "      <td>30.024753</td>\n",
              "      <td>-58.368394</td>\n",
              "      <td>-0.967113</td>\n",
              "      <td>9.943291</td>\n",
              "      <td>8.853898</td>\n",
              "      <td>-1.372838</td>\n",
              "      <td>0.388476</td>\n",
              "      <td>-0.482881</td>\n",
              "      <td>0.020174</td>\n",
              "      <td>0.132813</td>\n",
              "      <td>1.134641</td>\n",
              "      <td>-0.653784</td>\n",
              "      <td>-0.629622</td>\n",
              "      <td>-1.245999</td>\n",
              "      <td>-0.884762</td>\n",
              "      <td>0.127478</td>\n",
              "      <td>-0.996371</td>\n",
              "      <td>0.634465</td>\n",
              "      <td>0.701763</td>\n",
              "      <td>-0.262944</td>\n",
              "      <td>0.268919</td>\n",
              "      <td>0.271371</td>\n",
              "      <td>-1.165600</td>\n",
              "      <td>0.515765</td>\n",
              "      <td>0</td>\n",
              "    </tr>\n",
              "    <tr>\n",
              "      <th>2</th>\n",
              "      <td>0.265877</td>\n",
              "      <td>-0.032369</td>\n",
              "      <td>0.076720</td>\n",
              "      <td>0.033277</td>\n",
              "      <td>10.009849</td>\n",
              "      <td>2.399069</td>\n",
              "      <td>0.191649</td>\n",
              "      <td>-1.953686</td>\n",
              "      <td>-1.011991</td>\n",
              "      <td>0.219400</td>\n",
              "      <td>13.320995</td>\n",
              "      <td>1.690780</td>\n",
              "      <td>0.066551</td>\n",
              "      <td>-0.572786</td>\n",
              "      <td>-0.177859</td>\n",
              "      <td>0.152284</td>\n",
              "      <td>-0.369353</td>\n",
              "      <td>-0.241057</td>\n",
              "      <td>69.900334</td>\n",
              "      <td>-72.046531</td>\n",
              "      <td>-2.889520</td>\n",
              "      <td>17.450692</td>\n",
              "      <td>5.187211</td>\n",
              "      <td>0.583232</td>\n",
              "      <td>41.329687</td>\n",
              "      <td>-26.380044</td>\n",
              "      <td>0.954596</td>\n",
              "      <td>6.543946</td>\n",
              "      <td>9.822015</td>\n",
              "      <td>0.629680</td>\n",
              "      <td>21.773085</td>\n",
              "      <td>-22.583484</td>\n",
              "      <td>-0.227446</td>\n",
              "      <td>4.007090</td>\n",
              "      <td>10.955940</td>\n",
              "      <td>0.003283</td>\n",
              "      <td>0.164429</td>\n",
              "      <td>-0.113395</td>\n",
              "      <td>-0.005920</td>\n",
              "      <td>0.031382</td>\n",
              "      <td>9.138401</td>\n",
              "      <td>2.178734</td>\n",
              "      <td>0.203495</td>\n",
              "      <td>-1.874433</td>\n",
              "      <td>-0.966913</td>\n",
              "      <td>0.212791</td>\n",
              "      <td>13.398848</td>\n",
              "      <td>1.745463</td>\n",
              "      <td>0.215449</td>\n",
              "      <td>-0.430669</td>\n",
              "      <td>-0.020066</td>\n",
              "      <td>0.152527</td>\n",
              "      <td>-0.257186</td>\n",
              "      <td>-0.336455</td>\n",
              "      <td>0</td>\n",
              "    </tr>\n",
              "    <tr>\n",
              "      <th>3</th>\n",
              "      <td>0.156726</td>\n",
              "      <td>-0.004237</td>\n",
              "      <td>0.037811</td>\n",
              "      <td>0.029219</td>\n",
              "      <td>1.590803</td>\n",
              "      <td>1.592599</td>\n",
              "      <td>-0.145385</td>\n",
              "      <td>-1.826950</td>\n",
              "      <td>-1.005140</td>\n",
              "      <td>0.160868</td>\n",
              "      <td>13.734447</td>\n",
              "      <td>0.228093</td>\n",
              "      <td>-0.052596</td>\n",
              "      <td>-0.598230</td>\n",
              "      <td>-0.308335</td>\n",
              "      <td>0.108674</td>\n",
              "      <td>0.661647</td>\n",
              "      <td>0.794933</td>\n",
              "      <td>122.439791</td>\n",
              "      <td>-71.596842</td>\n",
              "      <td>-2.600450</td>\n",
              "      <td>16.519920</td>\n",
              "      <td>21.671557</td>\n",
              "      <td>1.895508</td>\n",
              "      <td>15.025690</td>\n",
              "      <td>-6.816347</td>\n",
              "      <td>0.935510</td>\n",
              "      <td>2.497011</td>\n",
              "      <td>7.558865</td>\n",
              "      <td>1.266827</td>\n",
              "      <td>10.020733</td>\n",
              "      <td>-20.275331</td>\n",
              "      <td>-0.344914</td>\n",
              "      <td>2.469550</td>\n",
              "      <td>24.597123</td>\n",
              "      <td>-2.348389</td>\n",
              "      <td>0.072149</td>\n",
              "      <td>-0.090342</td>\n",
              "      <td>-0.042772</td>\n",
              "      <td>0.027575</td>\n",
              "      <td>1.608027</td>\n",
              "      <td>1.567786</td>\n",
              "      <td>-0.113814</td>\n",
              "      <td>-1.750274</td>\n",
              "      <td>-0.958808</td>\n",
              "      <td>0.156954</td>\n",
              "      <td>13.720001</td>\n",
              "      <td>0.301453</td>\n",
              "      <td>0.102243</td>\n",
              "      <td>-0.443101</td>\n",
              "      <td>-0.151779</td>\n",
              "      <td>0.108934</td>\n",
              "      <td>0.652021</td>\n",
              "      <td>0.767577</td>\n",
              "      <td>0</td>\n",
              "    </tr>\n",
              "    <tr>\n",
              "      <th>4</th>\n",
              "      <td>0.425174</td>\n",
              "      <td>-0.166611</td>\n",
              "      <td>0.098557</td>\n",
              "      <td>0.090057</td>\n",
              "      <td>-0.664547</td>\n",
              "      <td>-0.147379</td>\n",
              "      <td>-0.746609</td>\n",
              "      <td>-1.391248</td>\n",
              "      <td>-1.009705</td>\n",
              "      <td>0.133280</td>\n",
              "      <td>-0.405639</td>\n",
              "      <td>-0.882972</td>\n",
              "      <td>0.044465</td>\n",
              "      <td>-0.707117</td>\n",
              "      <td>-0.317861</td>\n",
              "      <td>0.141301</td>\n",
              "      <td>-0.321595</td>\n",
              "      <td>-0.615018</td>\n",
              "      <td>28.161244</td>\n",
              "      <td>-33.793449</td>\n",
              "      <td>-2.632289</td>\n",
              "      <td>8.262721</td>\n",
              "      <td>0.118679</td>\n",
              "      <td>-0.065733</td>\n",
              "      <td>70.221652</td>\n",
              "      <td>-56.167737</td>\n",
              "      <td>2.705810</td>\n",
              "      <td>19.784358</td>\n",
              "      <td>-0.137040</td>\n",
              "      <td>-0.020527</td>\n",
              "      <td>34.729032</td>\n",
              "      <td>-33.307872</td>\n",
              "      <td>-0.138942</td>\n",
              "      <td>12.484283</td>\n",
              "      <td>-0.860298</td>\n",
              "      <td>0.080220</td>\n",
              "      <td>0.319527</td>\n",
              "      <td>-0.240538</td>\n",
              "      <td>0.013599</td>\n",
              "      <td>0.086444</td>\n",
              "      <td>-0.676464</td>\n",
              "      <td>-0.155681</td>\n",
              "      <td>-0.711275</td>\n",
              "      <td>-1.332885</td>\n",
              "      <td>-0.961590</td>\n",
              "      <td>0.130121</td>\n",
              "      <td>-0.381355</td>\n",
              "      <td>-0.903563</td>\n",
              "      <td>0.191230</td>\n",
              "      <td>-0.558937</td>\n",
              "      <td>-0.162538</td>\n",
              "      <td>0.142994</td>\n",
              "      <td>-0.329289</td>\n",
              "      <td>-0.634552</td>\n",
              "      <td>0</td>\n",
              "    </tr>\n",
              "  </tbody>\n",
              "</table>\n",
              "</div>"
            ],
            "text/plain": [
              "   acc1_x_max_amp  acc1_x_min_amp  ...  acc2_z_skewness  class\n",
              "0        0.412097       -0.303774  ...        -0.142152      0\n",
              "1        0.491542       -0.415073  ...         0.515765      0\n",
              "2        0.265877       -0.032369  ...        -0.336455      0\n",
              "3        0.156726       -0.004237  ...         0.767577      0\n",
              "4        0.425174       -0.166611  ...        -0.634552      0\n",
              "\n",
              "[5 rows x 55 columns]"
            ]
          },
          "metadata": {
            "tags": []
          },
          "execution_count": 46
        }
      ]
    },
    {
      "cell_type": "code",
      "metadata": {
        "colab": {
          "base_uri": "https://localhost:8080/",
          "height": 243
        },
        "id": "mUyFnAQcG9ZO",
        "outputId": "8b82c2dc-6828-421f-fcf5-a6967cab1fb4"
      },
      "source": [
        "print(len(fall_df), \"rows,\", len(fall_df.columns), \"cols\")\n",
        "fall_df.head()"
      ],
      "execution_count": 47,
      "outputs": [
        {
          "output_type": "stream",
          "text": [
            "1798 rows, 55 cols\n"
          ],
          "name": "stdout"
        },
        {
          "output_type": "execute_result",
          "data": {
            "text/html": [
              "<div>\n",
              "<style scoped>\n",
              "    .dataframe tbody tr th:only-of-type {\n",
              "        vertical-align: middle;\n",
              "    }\n",
              "\n",
              "    .dataframe tbody tr th {\n",
              "        vertical-align: top;\n",
              "    }\n",
              "\n",
              "    .dataframe thead th {\n",
              "        text-align: right;\n",
              "    }\n",
              "</style>\n",
              "<table border=\"1\" class=\"dataframe\">\n",
              "  <thead>\n",
              "    <tr style=\"text-align: right;\">\n",
              "      <th></th>\n",
              "      <th>acc1_x_max_amp</th>\n",
              "      <th>acc1_x_min_amp</th>\n",
              "      <th>acc1_x_mean_amp</th>\n",
              "      <th>acc1_x_variance</th>\n",
              "      <th>acc1_x_kurtosis</th>\n",
              "      <th>acc1_x_skewness</th>\n",
              "      <th>acc1_y_max_amp</th>\n",
              "      <th>acc1_y_min_amp</th>\n",
              "      <th>acc1_y_mean_amp</th>\n",
              "      <th>acc1_y_variance</th>\n",
              "      <th>acc1_y_kurtosis</th>\n",
              "      <th>acc1_y_skewness</th>\n",
              "      <th>acc1_z_max_amp</th>\n",
              "      <th>acc1_z_min_amp</th>\n",
              "      <th>acc1_z_mean_amp</th>\n",
              "      <th>acc1_z_variance</th>\n",
              "      <th>acc1_z_kurtosis</th>\n",
              "      <th>acc1_z_skewness</th>\n",
              "      <th>gyro_x_max_amp</th>\n",
              "      <th>gyro_x_min_amp</th>\n",
              "      <th>gyro_x_mean_amp</th>\n",
              "      <th>gyro_x_variance</th>\n",
              "      <th>gyro_x_kurtosis</th>\n",
              "      <th>gyro_x_skewness</th>\n",
              "      <th>gyro_y_max_amp</th>\n",
              "      <th>gyro_y_min_amp</th>\n",
              "      <th>gyro_y_mean_amp</th>\n",
              "      <th>gyro_y_variance</th>\n",
              "      <th>gyro_y_kurtosis</th>\n",
              "      <th>gyro_y_skewness</th>\n",
              "      <th>gyro_z_max_amp</th>\n",
              "      <th>gyro_z_min_amp</th>\n",
              "      <th>gyro_z_mean_amp</th>\n",
              "      <th>gyro_z_variance</th>\n",
              "      <th>gyro_z_kurtosis</th>\n",
              "      <th>gyro_z_skewness</th>\n",
              "      <th>acc2_x_max_amp</th>\n",
              "      <th>acc2_x_min_amp</th>\n",
              "      <th>acc2_x_mean_amp</th>\n",
              "      <th>acc2_x_variance</th>\n",
              "      <th>acc2_x_kurtosis</th>\n",
              "      <th>acc2_x_skewness</th>\n",
              "      <th>acc2_y_max_amp</th>\n",
              "      <th>acc2_y_min_amp</th>\n",
              "      <th>acc2_y_mean_amp</th>\n",
              "      <th>acc2_y_variance</th>\n",
              "      <th>acc2_y_kurtosis</th>\n",
              "      <th>acc2_y_skewness</th>\n",
              "      <th>acc2_z_max_amp</th>\n",
              "      <th>acc2_z_min_amp</th>\n",
              "      <th>acc2_z_mean_amp</th>\n",
              "      <th>acc2_z_variance</th>\n",
              "      <th>acc2_z_kurtosis</th>\n",
              "      <th>acc2_z_skewness</th>\n",
              "      <th>class</th>\n",
              "    </tr>\n",
              "  </thead>\n",
              "  <tbody>\n",
              "    <tr>\n",
              "      <th>0</th>\n",
              "      <td>0.210565</td>\n",
              "      <td>-1.101907</td>\n",
              "      <td>-0.020830</td>\n",
              "      <td>0.127924</td>\n",
              "      <td>22.438902</td>\n",
              "      <td>-3.298124</td>\n",
              "      <td>1.392266</td>\n",
              "      <td>-1.665785</td>\n",
              "      <td>-0.571892</td>\n",
              "      <td>0.575891</td>\n",
              "      <td>-0.560208</td>\n",
              "      <td>0.572291</td>\n",
              "      <td>0.522093</td>\n",
              "      <td>-3.619608</td>\n",
              "      <td>-0.586501</td>\n",
              "      <td>0.532230</td>\n",
              "      <td>2.820168</td>\n",
              "      <td>-1.055815</td>\n",
              "      <td>219.176512</td>\n",
              "      <td>-185.386085</td>\n",
              "      <td>-7.328943</td>\n",
              "      <td>30.621443</td>\n",
              "      <td>20.940250</td>\n",
              "      <td>-1.324519</td>\n",
              "      <td>151.255084</td>\n",
              "      <td>-168.420949</td>\n",
              "      <td>6.553205</td>\n",
              "      <td>27.136941</td>\n",
              "      <td>12.039490</td>\n",
              "      <td>-1.087472</td>\n",
              "      <td>41.266908</td>\n",
              "      <td>-100.602810</td>\n",
              "      <td>-0.661056</td>\n",
              "      <td>14.181704</td>\n",
              "      <td>8.572317</td>\n",
              "      <td>-1.126540</td>\n",
              "      <td>0.114027</td>\n",
              "      <td>-1.326136</td>\n",
              "      <td>-0.107821</td>\n",
              "      <td>0.134885</td>\n",
              "      <td>29.362095</td>\n",
              "      <td>-3.964723</td>\n",
              "      <td>1.477507</td>\n",
              "      <td>-1.565587</td>\n",
              "      <td>-0.528778</td>\n",
              "      <td>0.570739</td>\n",
              "      <td>-0.438765</td>\n",
              "      <td>0.602115</td>\n",
              "      <td>0.686572</td>\n",
              "      <td>-3.296071</td>\n",
              "      <td>-0.429350</td>\n",
              "      <td>0.528415</td>\n",
              "      <td>1.939131</td>\n",
              "      <td>-0.926832</td>\n",
              "      <td>1</td>\n",
              "    </tr>\n",
              "    <tr>\n",
              "      <th>1</th>\n",
              "      <td>0.328092</td>\n",
              "      <td>-1.772087</td>\n",
              "      <td>-0.062102</td>\n",
              "      <td>0.188484</td>\n",
              "      <td>39.501370</td>\n",
              "      <td>-5.057499</td>\n",
              "      <td>1.083230</td>\n",
              "      <td>-2.583497</td>\n",
              "      <td>-0.259969</td>\n",
              "      <td>0.744293</td>\n",
              "      <td>1.132067</td>\n",
              "      <td>-1.415223</td>\n",
              "      <td>0.436820</td>\n",
              "      <td>-3.308003</td>\n",
              "      <td>-0.799042</td>\n",
              "      <td>0.481664</td>\n",
              "      <td>1.567512</td>\n",
              "      <td>-0.049492</td>\n",
              "      <td>82.152109</td>\n",
              "      <td>-340.619084</td>\n",
              "      <td>-7.326340</td>\n",
              "      <td>33.940432</td>\n",
              "      <td>44.207903</td>\n",
              "      <td>-5.526888</td>\n",
              "      <td>160.986147</td>\n",
              "      <td>-99.271681</td>\n",
              "      <td>1.955606</td>\n",
              "      <td>35.212347</td>\n",
              "      <td>4.226314</td>\n",
              "      <td>0.990680</td>\n",
              "      <td>121.931121</td>\n",
              "      <td>-61.483640</td>\n",
              "      <td>1.521666</td>\n",
              "      <td>19.679819</td>\n",
              "      <td>9.419445</td>\n",
              "      <td>1.878097</td>\n",
              "      <td>0.235147</td>\n",
              "      <td>-1.650284</td>\n",
              "      <td>-0.144257</td>\n",
              "      <td>0.167670</td>\n",
              "      <td>34.304458</td>\n",
              "      <td>-4.403165</td>\n",
              "      <td>0.965006</td>\n",
              "      <td>-2.498689</td>\n",
              "      <td>-0.228354</td>\n",
              "      <td>0.725750</td>\n",
              "      <td>1.121657</td>\n",
              "      <td>-1.438051</td>\n",
              "      <td>0.591903</td>\n",
              "      <td>-3.028193</td>\n",
              "      <td>-0.641454</td>\n",
              "      <td>0.478156</td>\n",
              "      <td>1.020399</td>\n",
              "      <td>0.063374</td>\n",
              "      <td>1</td>\n",
              "    </tr>\n",
              "    <tr>\n",
              "      <th>2</th>\n",
              "      <td>0.362188</td>\n",
              "      <td>-3.109164</td>\n",
              "      <td>-0.274288</td>\n",
              "      <td>0.406382</td>\n",
              "      <td>7.671631</td>\n",
              "      <td>-1.610960</td>\n",
              "      <td>1.190902</td>\n",
              "      <td>-2.140036</td>\n",
              "      <td>-0.427675</td>\n",
              "      <td>0.597922</td>\n",
              "      <td>-1.294408</td>\n",
              "      <td>0.005417</td>\n",
              "      <td>0.944130</td>\n",
              "      <td>-0.530041</td>\n",
              "      <td>0.185048</td>\n",
              "      <td>0.408078</td>\n",
              "      <td>-1.697582</td>\n",
              "      <td>-0.032409</td>\n",
              "      <td>132.885128</td>\n",
              "      <td>-81.478373</td>\n",
              "      <td>-3.719630</td>\n",
              "      <td>16.406019</td>\n",
              "      <td>26.206824</td>\n",
              "      <td>2.101718</td>\n",
              "      <td>113.975799</td>\n",
              "      <td>-256.139440</td>\n",
              "      <td>2.028132</td>\n",
              "      <td>39.634340</td>\n",
              "      <td>11.508351</td>\n",
              "      <td>-2.240819</td>\n",
              "      <td>292.764548</td>\n",
              "      <td>-42.350301</td>\n",
              "      <td>6.120248</td>\n",
              "      <td>34.512846</td>\n",
              "      <td>36.054287</td>\n",
              "      <td>5.477457</td>\n",
              "      <td>0.269206</td>\n",
              "      <td>-3.091767</td>\n",
              "      <td>-0.346418</td>\n",
              "      <td>0.392960</td>\n",
              "      <td>7.695141</td>\n",
              "      <td>-1.611321</td>\n",
              "      <td>1.159847</td>\n",
              "      <td>-2.068846</td>\n",
              "      <td>-0.404588</td>\n",
              "      <td>0.574775</td>\n",
              "      <td>-1.272524</td>\n",
              "      <td>0.003667</td>\n",
              "      <td>1.123976</td>\n",
              "      <td>-0.376620</td>\n",
              "      <td>0.350880</td>\n",
              "      <td>0.414960</td>\n",
              "      <td>-1.700998</td>\n",
              "      <td>-0.032084</td>\n",
              "      <td>1</td>\n",
              "    </tr>\n",
              "    <tr>\n",
              "      <th>3</th>\n",
              "      <td>0.254365</td>\n",
              "      <td>-0.539332</td>\n",
              "      <td>-0.026212</td>\n",
              "      <td>0.130257</td>\n",
              "      <td>-0.281776</td>\n",
              "      <td>-0.063163</td>\n",
              "      <td>0.475748</td>\n",
              "      <td>-1.814591</td>\n",
              "      <td>-0.364593</td>\n",
              "      <td>0.519687</td>\n",
              "      <td>-1.555611</td>\n",
              "      <td>-0.467972</td>\n",
              "      <td>1.201375</td>\n",
              "      <td>-0.451671</td>\n",
              "      <td>0.426554</td>\n",
              "      <td>0.491171</td>\n",
              "      <td>-1.593887</td>\n",
              "      <td>-0.542671</td>\n",
              "      <td>230.917188</td>\n",
              "      <td>-21.668165</td>\n",
              "      <td>2.483397</td>\n",
              "      <td>27.167321</td>\n",
              "      <td>33.389241</td>\n",
              "      <td>5.354275</td>\n",
              "      <td>31.195342</td>\n",
              "      <td>-29.489598</td>\n",
              "      <td>1.326906</td>\n",
              "      <td>7.611486</td>\n",
              "      <td>5.026742</td>\n",
              "      <td>0.427838</td>\n",
              "      <td>66.410643</td>\n",
              "      <td>-27.917654</td>\n",
              "      <td>0.672930</td>\n",
              "      <td>7.701348</td>\n",
              "      <td>29.431759</td>\n",
              "      <td>4.287149</td>\n",
              "      <td>0.162595</td>\n",
              "      <td>-0.597596</td>\n",
              "      <td>-0.103208</td>\n",
              "      <td>0.124005</td>\n",
              "      <td>-0.221749</td>\n",
              "      <td>-0.085298</td>\n",
              "      <td>0.453414</td>\n",
              "      <td>-1.742936</td>\n",
              "      <td>-0.344484</td>\n",
              "      <td>0.499138</td>\n",
              "      <td>-1.552241</td>\n",
              "      <td>-0.470846</td>\n",
              "      <td>1.356612</td>\n",
              "      <td>-0.296353</td>\n",
              "      <td>0.594685</td>\n",
              "      <td>0.497116</td>\n",
              "      <td>-1.595319</td>\n",
              "      <td>-0.544183</td>\n",
              "      <td>1</td>\n",
              "    </tr>\n",
              "    <tr>\n",
              "      <th>4</th>\n",
              "      <td>0.235537</td>\n",
              "      <td>-0.581438</td>\n",
              "      <td>0.037840</td>\n",
              "      <td>0.089056</td>\n",
              "      <td>20.828207</td>\n",
              "      <td>-4.212606</td>\n",
              "      <td>1.312252</td>\n",
              "      <td>-1.220057</td>\n",
              "      <td>-0.541034</td>\n",
              "      <td>0.532636</td>\n",
              "      <td>-1.188638</td>\n",
              "      <td>0.426333</td>\n",
              "      <td>0.422720</td>\n",
              "      <td>-2.441059</td>\n",
              "      <td>-0.617279</td>\n",
              "      <td>0.515117</td>\n",
              "      <td>-1.179403</td>\n",
              "      <td>-0.334394</td>\n",
              "      <td>24.171197</td>\n",
              "      <td>-236.517439</td>\n",
              "      <td>-7.803795</td>\n",
              "      <td>26.074180</td>\n",
              "      <td>43.603936</td>\n",
              "      <td>-6.347967</td>\n",
              "      <td>56.097776</td>\n",
              "      <td>-17.635596</td>\n",
              "      <td>1.695197</td>\n",
              "      <td>8.218954</td>\n",
              "      <td>17.055149</td>\n",
              "      <td>3.713065</td>\n",
              "      <td>61.004009</td>\n",
              "      <td>-6.061556</td>\n",
              "      <td>1.597541</td>\n",
              "      <td>6.789455</td>\n",
              "      <td>35.853215</td>\n",
              "      <td>5.454047</td>\n",
              "      <td>0.144574</td>\n",
              "      <td>-0.646206</td>\n",
              "      <td>-0.046776</td>\n",
              "      <td>0.088286</td>\n",
              "      <td>20.263275</td>\n",
              "      <td>-4.137355</td>\n",
              "      <td>1.334531</td>\n",
              "      <td>-1.151428</td>\n",
              "      <td>-0.499650</td>\n",
              "      <td>0.528631</td>\n",
              "      <td>-1.197208</td>\n",
              "      <td>0.424424</td>\n",
              "      <td>0.595345</td>\n",
              "      <td>-2.321389</td>\n",
              "      <td>-0.459622</td>\n",
              "      <td>0.519213</td>\n",
              "      <td>-1.137296</td>\n",
              "      <td>-0.343966</td>\n",
              "      <td>1</td>\n",
              "    </tr>\n",
              "  </tbody>\n",
              "</table>\n",
              "</div>"
            ],
            "text/plain": [
              "   acc1_x_max_amp  acc1_x_min_amp  ...  acc2_z_skewness  class\n",
              "0        0.210565       -1.101907  ...        -0.926832      1\n",
              "1        0.328092       -1.772087  ...         0.063374      1\n",
              "2        0.362188       -3.109164  ...        -0.032084      1\n",
              "3        0.254365       -0.539332  ...        -0.544183      1\n",
              "4        0.235537       -0.581438  ...        -0.343966      1\n",
              "\n",
              "[5 rows x 55 columns]"
            ]
          },
          "metadata": {
            "tags": []
          },
          "execution_count": 47
        }
      ]
    },
    {
      "cell_type": "code",
      "metadata": {
        "id": "X5j0u-IFpEgx"
      },
      "source": [
        "df = pd.concat([adl_df, fall_df], sort=False, ignore_index=True)\n",
        "xs = df.drop(columns=[\"class\"])\n",
        "ys = df[\"class\"]"
      ],
      "execution_count": 48,
      "outputs": []
    },
    {
      "cell_type": "code",
      "metadata": {
        "id": "CicAc6WMNP9K"
      },
      "source": [
        "# Reshape data\n",
        "xs = xs.to_numpy().reshape((xs.shape[0], xs.shape[1], 1))\n",
        "ys = ys.to_numpy().reshape(-1, 1)"
      ],
      "execution_count": 49,
      "outputs": []
    },
    {
      "cell_type": "code",
      "metadata": {
        "id": "qc9Us4cgO1m9",
        "colab": {
          "base_uri": "https://localhost:8080/"
        },
        "outputId": "ce7b42aa-a78e-4698-b668-de9332cbb6ce"
      },
      "source": [
        "train_split = 0.8\n",
        "validation_split = 0.1\n",
        "\n",
        "x_train, x_test, y_train, y_test = train_test_split(xs, ys, train_size=train_split, random_state=RANDOM_SEED)\n",
        "\n",
        "print(x_train.shape, y_train.shape)"
      ],
      "execution_count": 50,
      "outputs": [
        {
          "output_type": "stream",
          "text": [
            "(3604, 54, 1) (3604, 1)\n"
          ],
          "name": "stdout"
        }
      ]
    },
    {
      "cell_type": "code",
      "metadata": {
        "id": "sZSFhf3qrYqB",
        "colab": {
          "base_uri": "https://localhost:8080/"
        },
        "outputId": "b9d3cd18-837b-4d2a-868d-59bdec083923"
      },
      "source": [
        "enc = OneHotEncoder(handle_unknown='ignore', sparse=False)\n",
        "enc = enc.fit(y_train)\n",
        "y_train = enc.transform(y_train)\n",
        "y_test = enc.transform(y_test)\n",
        "\n",
        "print(x_train.shape, y_train.shape)"
      ],
      "execution_count": 51,
      "outputs": [
        {
          "output_type": "stream",
          "text": [
            "(3604, 54, 1) (3604, 2)\n"
          ],
          "name": "stdout"
        }
      ]
    },
    {
      "cell_type": "code",
      "metadata": {
        "id": "5grnLxWrrjiZ"
      },
      "source": [
        "model = keras.Sequential()\n",
        "model.add(\n",
        "    keras.layers.Bidirectional(\n",
        "      keras.layers.LSTM(\n",
        "          units=128,\n",
        "          input_shape=[x_train.shape[1], x_train.shape[2]]\n",
        "      )\n",
        "    )\n",
        ")\n",
        "model.add(keras.layers.Dropout(rate=0.5))\n",
        "model.add(keras.layers.Dense(units=128, activation='relu'))\n",
        "model.add(keras.layers.Dense(y_train.shape[1], activation='softmax'))\n",
        "model.compile(\n",
        "  loss='categorical_crossentropy',\n",
        "  optimizer='adam',\n",
        "  metrics=['acc']\n",
        ")"
      ],
      "execution_count": 52,
      "outputs": []
    },
    {
      "cell_type": "code",
      "metadata": {
        "colab": {
          "base_uri": "https://localhost:8080/"
        },
        "id": "1zjU5kVXruoh",
        "outputId": "ab60bcc1-9d8d-4444-a683-b110af07ba09"
      },
      "source": [
        "history = model.fit(\n",
        "    x_train, y_train,\n",
        "    epochs=20,\n",
        "    batch_size=32,\n",
        "    validation_split=validation_split,\n",
        "    shuffle=True\n",
        ")"
      ],
      "execution_count": 53,
      "outputs": [
        {
          "output_type": "stream",
          "text": [
            "Epoch 1/20\n",
            "102/102 [==============================] - 5s 18ms/step - loss: 0.2989 - acc: 0.8674 - val_loss: 0.2058 - val_acc: 0.9086\n",
            "Epoch 2/20\n",
            "102/102 [==============================] - 1s 10ms/step - loss: 0.0798 - acc: 0.9722 - val_loss: 0.1593 - val_acc: 0.9474\n",
            "Epoch 3/20\n",
            "102/102 [==============================] - 1s 11ms/step - loss: 0.0830 - acc: 0.9729 - val_loss: 0.0874 - val_acc: 0.9751\n",
            "Epoch 4/20\n",
            "102/102 [==============================] - 1s 11ms/step - loss: 0.0519 - acc: 0.9815 - val_loss: 0.0523 - val_acc: 0.9806\n",
            "Epoch 5/20\n",
            "102/102 [==============================] - 1s 12ms/step - loss: 0.0496 - acc: 0.9840 - val_loss: 0.0827 - val_acc: 0.9612\n",
            "Epoch 6/20\n",
            "102/102 [==============================] - 1s 11ms/step - loss: 0.0393 - acc: 0.9867 - val_loss: 0.0657 - val_acc: 0.9806\n",
            "Epoch 7/20\n",
            "102/102 [==============================] - 1s 10ms/step - loss: 0.0357 - acc: 0.9889 - val_loss: 0.0554 - val_acc: 0.9861\n",
            "Epoch 8/20\n",
            "102/102 [==============================] - 1s 11ms/step - loss: 0.0307 - acc: 0.9907 - val_loss: 0.0543 - val_acc: 0.9806\n",
            "Epoch 9/20\n",
            "102/102 [==============================] - 1s 10ms/step - loss: 0.0265 - acc: 0.9907 - val_loss: 0.0531 - val_acc: 0.9806\n",
            "Epoch 10/20\n",
            "102/102 [==============================] - 1s 11ms/step - loss: 0.0209 - acc: 0.9929 - val_loss: 0.0412 - val_acc: 0.9861\n",
            "Epoch 11/20\n",
            "102/102 [==============================] - 1s 11ms/step - loss: 0.0370 - acc: 0.9874 - val_loss: 0.0457 - val_acc: 0.9861\n",
            "Epoch 12/20\n",
            "102/102 [==============================] - 1s 11ms/step - loss: 0.0195 - acc: 0.9935 - val_loss: 0.0503 - val_acc: 0.9834\n",
            "Epoch 13/20\n",
            "102/102 [==============================] - 1s 10ms/step - loss: 0.0126 - acc: 0.9957 - val_loss: 0.0403 - val_acc: 0.9861\n",
            "Epoch 14/20\n",
            "102/102 [==============================] - 1s 10ms/step - loss: 0.0188 - acc: 0.9935 - val_loss: 0.0331 - val_acc: 0.9917\n",
            "Epoch 15/20\n",
            "102/102 [==============================] - 1s 11ms/step - loss: 0.0197 - acc: 0.9935 - val_loss: 0.0418 - val_acc: 0.9889\n",
            "Epoch 16/20\n",
            "102/102 [==============================] - 1s 10ms/step - loss: 0.0147 - acc: 0.9966 - val_loss: 0.0472 - val_acc: 0.9889\n",
            "Epoch 17/20\n",
            "102/102 [==============================] - 1s 10ms/step - loss: 0.0263 - acc: 0.9920 - val_loss: 0.0283 - val_acc: 0.9917\n",
            "Epoch 18/20\n",
            "102/102 [==============================] - 1s 10ms/step - loss: 0.0134 - acc: 0.9963 - val_loss: 0.0737 - val_acc: 0.9861\n",
            "Epoch 19/20\n",
            "102/102 [==============================] - 1s 11ms/step - loss: 0.0191 - acc: 0.9960 - val_loss: 0.0220 - val_acc: 0.9972\n",
            "Epoch 20/20\n",
            "102/102 [==============================] - 1s 10ms/step - loss: 0.0143 - acc: 0.9954 - val_loss: 0.0330 - val_acc: 0.9945\n"
          ],
          "name": "stdout"
        }
      ]
    },
    {
      "cell_type": "code",
      "metadata": {
        "colab": {
          "base_uri": "https://localhost:8080/",
          "height": 406
        },
        "id": "Tp190C9BwgN9",
        "outputId": "bf793682-39ac-4957-b29c-d43002fee781"
      },
      "source": [
        "plt.plot(history.history['loss'], label='train')\n",
        "plt.plot(history.history['val_loss'], label='test')\n",
        "plt.legend();"
      ],
      "execution_count": 54,
      "outputs": [
        {
          "output_type": "display_data",
          "data": {
            "image/png": "[encoded data removed]",
            "text/plain": [
              "<Figure size 1584x720 with 1 Axes>"
            ]
          },
          "metadata": {
            "tags": []
          }
        }
      ]
    },
    {
      "cell_type": "code",
      "metadata": {
        "colab": {
          "base_uri": "https://localhost:8080/"
        },
        "id": "zql3PPF0wper",
        "outputId": "4c89543f-f704-4a00-a962-640a997422f0"
      },
      "source": [
        "model.evaluate(x_test, y_test)"
      ],
      "execution_count": 55,
      "outputs": [
        {
          "output_type": "stream",
          "text": [
            "29/29 [==============================] - 0s 5ms/step - loss: 0.0163 - acc: 0.9945\n"
          ],
          "name": "stdout"
        },
        {
          "output_type": "execute_result",
          "data": {
            "text/plain": [
              "[0.016282467171549797, 0.9944506287574768]"
            ]
          },
          "metadata": {
            "tags": []
          },
          "execution_count": 55
        }
      ]
    },
    {
      "cell_type": "code",
      "metadata": {
        "colab": {
          "base_uri": "https://localhost:8080/"
        },
        "id": "B45RwH_4KRRw",
        "outputId": "02ea1d75-0975-44c6-991b-db097ac4f556"
      },
      "source": [
        "# Convert the model to TensorFlow Lite\n",
        "converter = tf.lite.TFLiteConverter.from_keras_model(model)\n",
        "tflite_model = converter.convert()"
      ],
      "execution_count": 56,
      "outputs": [
        {
          "output_type": "stream",
          "text": [
            "WARNING:absl:Found untraced functions such as lstm_cell_4_layer_call_fn, lstm_cell_4_layer_call_and_return_conditional_losses, lstm_cell_5_layer_call_fn, lstm_cell_5_layer_call_and_return_conditional_losses, lstm_cell_4_layer_call_fn while saving (showing 5 of 10). These functions will not be directly callable after loading.\n"
          ],
          "name": "stderr"
        },
        {
          "output_type": "stream",
          "text": [
            "INFO:tensorflow:Assets written to: /tmp/tmprzenfxs6/assets\n"
          ],
          "name": "stdout"
        },
        {
          "output_type": "stream",
          "text": [
            "INFO:tensorflow:Assets written to: /tmp/tmprzenfxs6/assets\n"
          ],
          "name": "stderr"
        }
      ]
    },
    {
      "cell_type": "code",
      "metadata": {
        "id": "2DdKLyX7KWZd"
      },
      "source": [
        "# Save the model\n",
        "with open('model.tflite', 'wb') as f:\n",
        "  f.write(tflite_model)"
      ],
      "execution_count": 57,
      "outputs": []
    },
    {
      "cell_type": "code",
      "metadata": {
        "colab": {
          "base_uri": "https://localhost:8080/"
        },
        "id": "HS160L_3UTKA",
        "outputId": "3706bca2-acda-4665-9cc7-a9dde2e788c6"
      },
      "source": [
        "# Install xxd if it is not available\n",
        "!apt-get update && apt-get -qq install xxd\n",
        "\n",
        "# Convert to a C source file, i.e, a TensorFlow Lite for Microcontrollers model\n",
        "!xxd -i /content/model.tflite > model.h"
      ],
      "execution_count": 61,
      "outputs": [
        {
          "output_type": "stream",
          "text": [
            "\r0% [Working]\r            \rHit:1 http://security.ubuntu.com/ubuntu bionic-security InRelease\n",
            "\r0% [Connecting to archive.ubuntu.com (91.189.88.152)] [Connected to cloud.r-pro\r0% [1 InRelease gpgv 88.7 kB] [Connecting to archive.ubuntu.com (91.189.88.152)\r                                                                               \rHit:2 https://cloud.r-project.org/bin/linux/ubuntu bionic-cran40/ InRelease\n",
            "Ign:3 https://developer.download.nvidia.com/compute/cuda/repos/ubuntu1804/x86_64  InRelease\n",
            "Hit:4 http://ppa.launchpad.net/c2d4u.team/c2d4u4.0+/ubuntu bionic InRelease\n",
            "Hit:5 http://archive.ubuntu.com/ubuntu bionic InRelease\n",
            "Ign:6 https://developer.download.nvidia.com/compute/machine-learning/repos/ubuntu1804/x86_64  InRelease\n",
            "Hit:7 https://developer.download.nvidia.com/compute/cuda/repos/ubuntu1804/x86_64  Release\n",
            "Hit:8 https://developer.download.nvidia.com/compute/machine-learning/repos/ubuntu1804/x86_64  Release\n",
            "Hit:9 http://archive.ubuntu.com/ubuntu bionic-updates InRelease\n",
            "Hit:10 http://ppa.launchpad.net/cran/libgit2/ubuntu bionic InRelease\n",
            "Hit:11 http://archive.ubuntu.com/ubuntu bionic-backports InRelease\n",
            "Hit:12 http://ppa.launchpad.net/deadsnakes/ppa/ubuntu bionic InRelease\n",
            "Hit:13 http://ppa.launchpad.net/graphics-drivers/ppa/ubuntu bionic InRelease\n",
            "Reading package lists... Done\n"
          ],
          "name": "stdout"
        }
      ]
    },
    {
      "cell_type": "markdown",
      "metadata": {
        "id": "X8Zh6-lKJxrg"
      },
      "source": [
        "# Testing"
      ]
    },
    {
      "cell_type": "code",
      "metadata": {
        "id": "jaAXECZbbro7"
      },
      "source": [
        "pred_filepath = \"lying_down.csv\"\n",
        "\n",
        "pred_features_df = calc_features_df(pred_filepath, is_raw=False)\n",
        "\n",
        "pred_features_df.head()"
      ],
      "execution_count": null,
      "outputs": []
    },
    {
      "cell_type": "code",
      "metadata": {
        "id": "BLRCWfG8baNc"
      },
      "source": [
        "x = pred_features_df.to_numpy().reshape((pred_features_df.shape[0], pred_features_df.shape[1], 1))\n",
        "\n",
        "prediction = np.argmax(model.predict(x), axis=-1)[0]\n",
        "\n",
        "if prediction == 0:\n",
        "  print(\"ADL\")\n",
        "elif prediction == 1:\n",
        "  print(\"Fall\")"
      ],
      "execution_count": null,
      "outputs": []
    },
    {
      "cell_type": "markdown",
      "metadata": {
        "id": "YVVQHmdhEibs"
      },
      "source": [
        "# Data Visualization"
      ]
    },
    {
      "cell_type": "code",
      "metadata": {
        "id": "SwYnZbqCihoL"
      },
      "source": [
        "# Adapted from: https://curiousily.com/posts/time-series-classification-for-human-activity-recognition-with-lstms-in-keras/\n",
        "\n",
        "def plot_activity(df: pd.DataFrame, title: str):\n",
        "    data = df[['gyro_x', 'gyro_y', 'gyro_z']][:500]\n",
        "    graph = data.plot(title=title)\n",
        "    graph.legend(loc='lower left', bbox_to_anchor=[1.0, 0.5])"
      ],
      "execution_count": null,
      "outputs": []
    },
    {
      "cell_type": "code",
      "metadata": {
        "id": "BEXYRiDoxxA9"
      },
      "source": [
        "vis_df = pd.read_csv(\"/content/fall-detection/dataset/SA01/F01_SA01_R01.csv\", names=COLUMN_NAMES, header=None)\n",
        "# vis_df = pd.read_csv(\"/content/lying_down.csv\", names=COLUMN_NAMES, header=None)\n",
        "\n",
        "# Convert data\n",
        "for axis in [\"x\", \"y\", \"z\"]:\n",
        "  vis_df[f\"acc1_{axis}\"] = convert_data(vis_df[f\"acc1_{axis}\"], 16, 13)\n",
        "  vis_df[f\"acc2_{axis}\"] = convert_data(vis_df[f\"acc2_{axis}\"], 8, 14)\n",
        "  vis_df[f\"gyro_{axis}\"] = convert_data(vis_df[f\"gyro_{axis}\"], 2000, 16)\n",
        "\n",
        "vis_df_before = vis_df.copy(deep=True)\n",
        "\n",
        "# Filter data using a Butterworth filter\n",
        "for axis in [\"x\", \"y\", \"z\"]:\n",
        "  vis_df[f\"acc1_{axis}\"] = filter_data(vis_df[f\"acc1_{axis}\"])\n",
        "  vis_df[f\"acc2_{axis}\"] = filter_data(vis_df[f\"acc2_{axis}\"])\n",
        "  vis_df[f\"gyro_{axis}\"] = filter_data(vis_df[f\"gyro_{axis}\"])"
      ],
      "execution_count": null,
      "outputs": []
    },
    {
      "cell_type": "code",
      "metadata": {
        "id": "ebqSr-Qm0TOZ"
      },
      "source": [
        "plot_activity(vis_df_before, \"Before\")"
      ],
      "execution_count": null,
      "outputs": []
    },
    {
      "cell_type": "code",
      "metadata": {
        "id": "xCLCjmg-sfrh"
      },
      "source": [
        "plot_activity(vis_df, \"After\")"
      ],
      "execution_count": null,
      "outputs": []
    },
    {
      "cell_type": "code",
      "metadata": {
        "id": "6yk36V0LXuAd"
      },
      "source": [
        ""
      ],
      "execution_count": null,
      "outputs": []
    }
  ]
}